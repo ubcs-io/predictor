{
 "cells": [
  {
   "cell_type": "code",
   "execution_count": 49,
   "metadata": {},
   "outputs": [],
   "source": [
    "import random\n",
    "import numpy as np\n",
    "import matplotlib.pyplot as plt"
   ]
  },
  {
   "cell_type": "code",
   "execution_count": 64,
   "metadata": {},
   "outputs": [],
   "source": [
    "# This block generates our random number selection\n",
    "# Rerun this block every time you want to mix up the inputs\n",
    "X = 2 * np.random.rand(100, 1)\n",
    "y = 4 + 3 * X + np.random.rand(100, 1)"
   ]
  },
  {
   "cell_type": "markdown",
   "metadata": {},
   "source": [
    "Just for posterity, let's plot that data so we can see it changing if we update the input.  We'll just add some data, see, happy little data points."
   ]
  },
  {
   "cell_type": "code",
   "execution_count": 65,
   "metadata": {},
   "outputs": [
    {
     "data": {
      "image/png": "[encoded data removed]",
      "text/plain": [
       "<Figure size 432x288 with 1 Axes>"
      ]
     },
     "metadata": {},
     "output_type": "display_data"
    }
   ],
   "source": [
    "plt.plot(X, y, \"b.\")\n",
    "plt.axis([0, 2, 0, 15])\n",
    "plt.show()"
   ]
  },
  {
   "cell_type": "markdown",
   "metadata": {},
   "source": [
    "# The Easy Way\n",
    "This method below utilizes SciKit-Learn's LinearRegresson module.  We start with the raw data above, and then we'll fit a model to that data.  Once it's been fit to the data, we can then make predictions on the model.\n",
    "\n",
    "Take note of how long it takes to run the training, this is what you can save by serializing and pickling that model structure, rather than re-training every time you need to make a prediction."
   ]
  },
  {
   "cell_type": "code",
   "execution_count": null,
   "metadata": {},
   "outputs": [],
   "source": []
  },
  {
   "cell_type": "markdown",
   "metadata": {},
   "source": [
    "# The Hard Way\n",
    "This method below uses dot-matrix algebra in an example from an OReilly book.  In practice you wouldn't do it this way, but it's helpful for getting a sense of what's going on under the hood."
   ]
  },
  {
   "cell_type": "code",
   "execution_count": 59,
   "metadata": {},
   "outputs": [
    {
     "data": {
      "text/plain": [
       "array([[4.59186817],\n",
       "       [2.95888642]])"
      ]
     },
     "execution_count": 59,
     "metadata": {},
     "output_type": "execute_result"
    }
   ],
   "source": [
    "# Calculate the line of best fit with dot-matrix algebra\n",
    "X_b = np.c_[np.ones((100, 1)), X]\n",
    "theta_best = np.linalg.inv(X_b.T.dot(X_b)).dot(X_b.T).dot(y)\n",
    "\n",
    "# calculate the line of fit\n",
    "theta_best"
   ]
  },
  {
   "cell_type": "code",
   "execution_count": 60,
   "metadata": {},
   "outputs": [
    {
     "data": {
      "text/plain": [
       "array([[ 4.59186817],\n",
       "       [10.50964101]])"
      ]
     },
     "execution_count": 60,
     "metadata": {},
     "output_type": "execute_result"
    }
   ],
   "source": [
    "X_new = np.array([[0], [2]])\n",
    "X_new_b = np.c_[np.ones((2, 1)), X_new]\n",
    "y_predict = X_new_b.dot(theta_best)\n",
    "y_predict"
   ]
  },
  {
   "cell_type": "code",
   "execution_count": 61,
   "metadata": {},
   "outputs": [
    {
     "data": {
      "image/png": "[encoded data removed]",
      "text/plain": [
       "<Figure size 432x288 with 1 Axes>"
      ]
     },
     "metadata": {},
     "output_type": "display_data"
    }
   ],
   "source": [
    "plt.plot(X_new, y_predict, \"r-\")\n",
    "plt.plot(X, y, \"b.\")\n",
    "plt.axis([0, 2, 0, 15])\n",
    "plt.show()"
   ]
  },
  {
   "cell_type": "code",
   "execution_count": 32,
   "metadata": {},
   "outputs": [
    {
     "name": "stdout",
     "output_type": "stream",
     "text": [
      "[[ 6.04051255]\n",
      " [        nan]\n",
      " [        nan]\n",
      " [        nan]\n",
      " [        nan]\n",
      " [ 3.85908696]\n",
      " [ 3.94063509]\n",
      " [ 3.90892585]\n",
      " [ 4.29970151]\n",
      " [        nan]\n",
      " [ 2.85595597]\n",
      " [ 5.75576793]\n",
      " [        nan]\n",
      " [        nan]\n",
      " [13.91870908]\n",
      " [ 4.34410012]\n",
      " [        nan]\n",
      " [ 5.23537444]\n",
      " [ 3.89707384]\n",
      " [        nan]\n",
      " [ 2.7651897 ]\n",
      " [        nan]\n",
      " [        nan]\n",
      " [ 1.55451004]\n",
      " [        nan]\n",
      " [        nan]\n",
      " [        nan]\n",
      " [12.8016963 ]\n",
      " [        nan]\n",
      " [ 1.22141442]\n",
      " [ 2.78043177]\n",
      " [ 3.77803912]\n",
      " [ 3.01635203]\n",
      " [        nan]\n",
      " [ 6.06172608]\n",
      " [        nan]\n",
      " [10.80582944]\n",
      " [        nan]\n",
      " [        nan]\n",
      " [ 2.23781771]\n",
      " [ 2.58474835]\n",
      " [ 3.8172415 ]\n",
      " [        nan]\n",
      " [ 4.77089623]\n",
      " [ 4.73180796]\n",
      " [        nan]\n",
      " [ 3.11218237]\n",
      " [        nan]\n",
      " [        nan]\n",
      " [        nan]\n",
      " [14.06317943]\n",
      " [        nan]\n",
      " [        nan]\n",
      " [ 4.4726764 ]\n",
      " [        nan]\n",
      " [        nan]\n",
      " [        nan]\n",
      " [        nan]\n",
      " [ 1.35206692]\n",
      " [        nan]\n",
      " [        nan]\n",
      " [        nan]\n",
      " [ 1.52753191]\n",
      " [ 2.90750429]\n",
      " [-0.24651777]\n",
      " [ 2.16303216]\n",
      " [ 4.74107153]\n",
      " [ 4.65613415]\n",
      " [        nan]\n",
      " [        nan]\n",
      " [ 2.57680564]\n",
      " [ 3.06794291]\n",
      " [ 2.93846773]\n",
      " [        nan]\n",
      " [        nan]\n",
      " [        nan]\n",
      " [ 3.05336171]\n",
      " [ 6.93349902]\n",
      " [        nan]\n",
      " [        nan]\n",
      " [ 2.79903623]\n",
      " [        nan]\n",
      " [        nan]\n",
      " [        nan]\n",
      " [ 6.37498161]\n",
      " [ 6.68245595]\n",
      " [        nan]\n",
      " [ 2.4586418 ]\n",
      " [ 3.08436551]\n",
      " [        nan]\n",
      " [ 6.03317222]\n",
      " [        nan]\n",
      " [        nan]\n",
      " [ 7.99685961]\n",
      " [ 4.36974875]\n",
      " [ 1.52844077]\n",
      " [        nan]\n",
      " [        nan]\n",
      " [ 1.75599999]\n",
      " [        nan]]\n"
     ]
    },
    {
     "name": "stderr",
     "output_type": "stream",
     "text": [
      "/usr/local/lib/python3.6/site-packages/ipykernel_launcher.py:3: RuntimeWarning: invalid value encountered in power\n",
      "  This is separate from the ipykernel package so we can avoid doing imports until\n"
     ]
    }
   ],
   "source": [
    "m = 100\n",
    "X = 6 * np.random.rand(m, 1) - 3\n",
    "y = 0.5 * X** + X + 2 + np.random.randn(m, 1)\n",
    "print(y)"
   ]
  },
  {
   "cell_type": "code",
   "execution_count": null,
   "metadata": {},
   "outputs": [],
   "source": []
  }
 ],
 "metadata": {
  "kernelspec": {
   "display_name": "Python 3",
   "language": "python",
   "name": "python3"
  },
  "language_info": {
   "codemirror_mode": {
    "name": "ipython",
    "version": 3
   },
   "file_extension": ".py",
   "mimetype": "text/x-python",
   "name": "python",
   "nbconvert_exporter": "python",
   "pygments_lexer": "ipython3",
   "version": "3.6.5"
  }
 },
 "nbformat": 4,
 "nbformat_minor": 2
}
