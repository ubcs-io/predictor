{
 "cells": [
  {
   "cell_type": "code",
   "execution_count": 6,
   "metadata": {},
   "outputs": [],
   "source": [
    "import random\n",
    "import numpy as np\n",
    "import matplotlib.pyplot as plt\n",
    "\n",
    "from sklearn.linear_model import LinearRegression"
   ]
  },
  {
   "cell_type": "markdown",
   "metadata": {},
   "source": [
    "# Generate Dummy Data\n",
    "Since we're just proving the concept, we're going to create some random data in this block"
   ]
  },
  {
   "cell_type": "code",
   "execution_count": 7,
   "metadata": {},
   "outputs": [],
   "source": [
    "# This block generates our random number selection\n",
    "# Rerun this block every time you want to mix up the inputs\n",
    "X = 2 * np.random.rand(100, 1)\n",
    "y = 4 + 3 * X + np.random.rand(100, 1)"
   ]
  },
  {
   "cell_type": "markdown",
   "metadata": {},
   "source": [
    "Just for posterity, let's plot that data so we can see it changing if we update the input.  We'll just add some data, see, happy little data points.  Since the underlying process for creating data is linear, we should expect to see a pretty straight clustering of points along the plot below."
   ]
  },
  {
   "cell_type": "code",
   "execution_count": 13,
   "metadata": {},
   "outputs": [
    {
     "data": {
      "image/png": "[encoded data removed]",
      "text/plain": [
       "<Figure size 432x288 with 1 Axes>"
      ]
     },
     "metadata": {},
     "output_type": "display_data"
    }
   ],
   "source": [
    "plt.plot(X, y, \"b.\")\n",
    "plt.axis([0, 2, 0, 15])\n",
    "plt.show()"
   ]
  },
  {
   "cell_type": "markdown",
   "metadata": {},
   "source": [
    "# The Easy Way\n",
    "This method below utilizes SciKit-Learn's LinearRegresson module.  We start with the raw data above, and then we'll fit a model to that data.  Once it's been fit to the data, we can then make predictions on the model.\n",
    "\n",
    "Take note of how long it takes to run the training, this is what you can save by serializing and pickling that model structure, rather than re-training every time you need to make a prediction."
   ]
  },
  {
   "cell_type": "code",
   "execution_count": 39,
   "metadata": {},
   "outputs": [
    {
     "name": "stdout",
     "output_type": "stream",
     "text": [
      "The intercept is [4.39931135]\n",
      "The coefficient is [[3.08903335]]\n",
      "If a user provides us \"0.55\", our model will predict [[6.0982797]]\n"
     ]
    }
   ],
   "source": [
    "# Assign the LinearRegression function to \n",
    "lin_reg = LinearRegression()\n",
    "\n",
    "# Pass our X and y values to the fit() function\n",
    "lin_reg.fit(X, y)\n",
    "\n",
    "# Print out the intercept of the slope and what the coefficient of the slope is\n",
    "print(\"The intercept is {0}\".format(lin_reg.intercept_))\n",
    "print(\"The coefficient is {0}\".format(lin_reg.coef_))\n",
    "\n",
    "# Set a new value of X, as supplied by a user.  Alter this value to get a new value back\n",
    "user_value = round(random.uniform(0.5, 1.5), 2)\n",
    "\n",
    "# Predict the value of Y for a new value of X\n",
    "print(\"If a user provides us \\\"{0}\\\", our model will predict {1}\".format(user_value, lin_reg.predict(user_value)))\n"
   ]
  },
  {
   "cell_type": "markdown",
   "metadata": {},
   "source": [
    "# The Hard Way\n",
    "This method below uses dot-matrix algebra in an example from an OReilly book.  In practice you wouldn't do it this way, but it's helpful for getting a sense of what's going on under the hood."
   ]
  },
  {
   "cell_type": "code",
   "execution_count": 59,
   "metadata": {},
   "outputs": [
    {
     "data": {
      "text/plain": [
       "array([[4.59186817],\n",
       "       [2.95888642]])"
      ]
     },
     "execution_count": 59,
     "metadata": {},
     "output_type": "execute_result"
    }
   ],
   "source": [
    "# Calculate the line of best fit with dot-matrix algebra\n",
    "X_b = np.c_[np.ones((100, 1)), X]\n",
    "theta_best = np.linalg.inv(X_b.T.dot(X_b)).dot(X_b.T).dot(y)\n",
    "\n",
    "# calculate the line of fit\n",
    "theta_best"
   ]
  },
  {
   "cell_type": "code",
   "execution_count": 60,
   "metadata": {},
   "outputs": [
    {
     "data": {
      "text/plain": [
       "array([[ 4.59186817],\n",
       "       [10.50964101]])"
      ]
     },
     "execution_count": 60,
     "metadata": {},
     "output_type": "execute_result"
    }
   ],
   "source": [
    "X_new = np.array([[0], [2]])\n",
    "X_new_b = np.c_[np.ones((2, 1)), X_new]\n",
    "y_predict = X_new_b.dot(theta_best)\n",
    "y_predict"
   ]
  },
  {
   "cell_type": "code",
   "execution_count": 61,
   "metadata": {},
   "outputs": [
    {
     "data": {
      "image/png": "[encoded data removed]",
      "text/plain": [
       "<Figure size 432x288 with 1 Axes>"
      ]
     },
     "metadata": {},
     "output_type": "display_data"
    }
   ],
   "source": [
    "plt.plot(X_new, y_predict, \"r-\")\n",
    "plt.plot(X, y, \"b.\")\n",
    "plt.axis([0, 2, 0, 15])\n",
    "plt.show()"
   ]
  }
 ],
 "metadata": {
  "kernelspec": {
   "display_name": "Python 3",
   "language": "python",
   "name": "python3"
  },
  "language_info": {
   "codemirror_mode": {
    "name": "ipython",
    "version": 3
   },
   "file_extension": ".py",
   "mimetype": "text/x-python",
   "name": "python",
   "nbconvert_exporter": "python",
   "pygments_lexer": "ipython3",
   "version": "3.6.5"
  }
 },
 "nbformat": 4,
 "nbformat_minor": 2
}
